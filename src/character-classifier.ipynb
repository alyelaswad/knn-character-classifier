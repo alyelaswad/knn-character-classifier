{
 "cells": [
  {
   "cell_type": "markdown",
   "id": "beb61119",
   "metadata": {},
   "source": [
    "## Character Classification using the K-Nearest Neighbors (KNN) Classifier"
   ]
  },
  {
   "cell_type": "code",
   "execution_count": 1,
   "id": "e81aeae7",
   "metadata": {},
   "outputs": [
    {
     "name": "stdout",
     "output_type": "stream",
     "text": [
      "12\n",
      "12\n"
     ]
    },
    {
     "data": {
      "text/plain": [
       "array([[  0, 255, 251,   0, 255,  10, 242, 255, 252, 248,   0, 255],\n",
       "       [ 19, 248, 247, 255, 255,  24, 255, 255, 248, 250,   0,   0],\n",
       "       [229, 239, 255, 255,   0,  15, 249, 255,   0, 241, 175,   9],\n",
       "       [ 69,  69,  64,  61,   5, 249,  87, 233, 253, 255, 255,   6],\n",
       "       [  4, 255, 241,   4, 255,   0,   0, 255,   0,   0, 252,  24],\n",
       "       [255,   2, 255, 246, 151,   0, 255, 249, 255, 247, 255, 249],\n",
       "       [  3, 116, 249, 255, 243, 245, 183, 251, 221, 255,   0,  23],\n",
       "       [  5, 240, 249, 255, 255, 153,  16, 243, 255, 233,   0,  12],\n",
       "       [237, 255, 234, 255,   0,   0,  10, 241, 255, 235, 255,   3],\n",
       "       [255, 241, 246, 251,   0,  16, 247,   0, 255, 255,   7, 255],\n",
       "       [240, 255, 255, 235, 255, 255, 240, 255, 229, 255, 211, 246],\n",
       "       [  0, 255, 248, 255, 240, 237, 223,   4, 255, 255, 255,   0]],\n",
       "      dtype=uint8)"
      ]
     },
     "execution_count": 1,
     "metadata": {},
     "output_type": "execute_result"
    }
   ],
   "source": [
    "import cv2\n",
    "import os\n",
    "import numpy as np\n",
    "import matplotlib.pyplot as plt\n",
    "from sklearn.model_selection import train_test_split\n",
    "import heapq\n",
    "from collections import Counter\n",
    "\n",
    "\n",
    "dummy_image = cv2.imread(\"../dataset/Noise Train/A1a1.jpg\",cv2.IMREAD_GRAYSCALE)\n",
    "# # The reason why we read it as a grayscale image, so that we can ignore the\n",
    "# # extra parameter that is the RGB channel\n",
    "print(len(dummy_image))\n",
    "print(len(dummy_image[0]))\n",
    "\n",
    "images_per_class = 7\n",
    "number_of_classes = 26\n",
    "train_path = \"../dataset/Noise Train\"\n",
    "images = []\n",
    "labels = []\n",
    "dummy_image"
   ]
  },
  {
   "cell_type": "markdown",
   "id": "083982c6",
   "metadata": {},
   "source": [
    "#### So we are dealing with 12x12 images\n",
    "#### Let us read all of our training data set"
   ]
  },
  {
   "cell_type": "code",
   "execution_count": 2,
   "id": "aeb8fbe8",
   "metadata": {},
   "outputs": [
    {
     "name": "stdout",
     "output_type": "stream",
     "text": [
      "a\n",
      "c\n"
     ]
    },
    {
     "data": {
      "text/plain": [
       "144"
      ]
     },
     "execution_count": 2,
     "metadata": {},
     "output_type": "execute_result"
    }
   ],
   "source": [
    "files = [f for f in os.listdir(train_path) if f.endswith(\".jpg\")]\n",
    "files.sort()\n",
    "\n",
    "for i in enumerate(files):\n",
    "    image_path = os.path.join(train_path, files[i[0]])\n",
    "    img = cv2.imread(image_path,cv2.IMREAD_GRAYSCALE).flatten()\n",
    "    img = img/255.0\n",
    "    images.append(img)\n",
    "    labels.append(chr((i[0]//images_per_class)+97))\n",
    "images = np.array(images)\n",
    "labels = np.array(labels)\n",
    "print(labels[0])\n",
    "print(labels[20])\n",
    "len(images[0])\n",
    "# Now we have our training dataset in images and their target value in labels.\n",
    "\n",
    "    "
   ]
  },
  {
   "cell_type": "code",
   "execution_count": 3,
   "id": "9240ff43",
   "metadata": {},
   "outputs": [],
   "source": [
    "def knn(train_data, train_labels, test_data, K):\n",
    "    test_labels=[]\n",
    "    for i in range(len(test_data)):\n",
    "        distances = []\n",
    "        for j in range(len(train_data)):\n",
    "            distance = np.linalg.norm(test_data[i]- train_data[j])\n",
    "            label = train_labels[j]\n",
    "            distances.append((label,distance)) # so distances is a tuple (_label_, _distance_)\n",
    "        nearest_distances = heapq.nsmallest(K, distances, key=lambda x: x[1])\n",
    "        labels = [label for label, _ in nearest_distances]\n",
    "        label_counts = Counter(labels)\n",
    "        most_common_label = label_counts.most_common(1)[0][0]\n",
    "        test_labels.append(most_common_label) \n",
    "    return test_labels         \n"
   ]
  },
  {
   "cell_type": "code",
   "execution_count": 15,
   "id": "68f6fc0f",
   "metadata": {},
   "outputs": [
    {
     "name": "stdout",
     "output_type": "stream",
     "text": [
      "(10, 40, 2)\n",
      "3 90.27027027027027\n"
     ]
    }
   ],
   "source": [
    "best_ks =[]\n",
    "best_accs =[]\n",
    "plotting_data_train =[]\n",
    "for m in range(10): # iterating over folds\n",
    "    img_train_cv, img_test_cv, label_train_cv, label_test_cv = train_test_split(images, labels, test_size=0.2, random_state=30-m)\n",
    "    cv_accuracy=[]\n",
    "    for k in range(1,41): # iterating over possible K values\n",
    "        predicted_labels = knn(img_train_cv,label_train_cv,img_test_cv,k)\n",
    "        total_labels=0\n",
    "        correct_labels=0\n",
    "        for i in range(len(predicted_labels)): # iterating over each prediction to calculate accuracy\n",
    "            total_labels +=1\n",
    "            if predicted_labels[i] == label_test_cv[i]:\n",
    "                correct_labels +=1\n",
    "        cv_accuracy.append((k,(100*(correct_labels/total_labels))))\n",
    "    best_k, best_acc = max(cv_accuracy, key=lambda x: x[1])\n",
    "    best_ks.append(best_k)\n",
    "    best_accs.append(best_acc)\n",
    "    plotting_data_train.append(cv_accuracy)\n",
    "k_counts = Counter(best_ks)\n",
    "best_k_cv = k_counts.most_common(1)[0][0]\n",
    "sum_cv =0\n",
    "for m in range(len(best_accs)):\n",
    "    if best_ks[m] == best_k_cv:\n",
    "        sum_cv += best_accs[m]\n",
    "avg_accuracy = (float(sum_cv) / k_counts.most_common(1)[0][1])\n",
    "print((np.array(plotting_data_train)).shape)\n",
    "print(best_k_cv,avg_accuracy)"
   ]
  },
  {
   "cell_type": "markdown",
   "id": "08364c27",
   "metadata": {},
   "source": [
    "#### Best k is K=3 with a **90.27** accuracy\n",
    "#### Let us plot the performace of the different k values"
   ]
  },
  {
   "cell_type": "code",
   "execution_count": 46,
   "id": "092b76d2",
   "metadata": {},
   "outputs": [
    {
     "data": {
      "image/png": "[encoded data removed]",
      "text/plain": [
       "<Figure size 700x500 with 1 Axes>"
      ]
     },
     "metadata": {},
     "output_type": "display_data"
    }
   ],
   "source": [
    "plotting_data = []\n",
    "for ks in range(len(plotting_data_train[0])): # 40\n",
    "    sum =0\n",
    "    for num in range(len(plotting_data_train)): # 10\n",
    "        sum += plotting_data_train[num][ks][1]\n",
    "    mean_acc = sum/10\n",
    "    plotting_data.append((ks+1,mean_acc))\n",
    "\n",
    "k_values = [item[0] for item in plotting_data]  # First element of each tuple\n",
    "mean_accuracies = [item[1] for item in plotting_data]  # Second element of each tuple\n",
    "\n",
    "plt.figure(figsize=(7, 5))\n",
    "plt.plot(k_values, mean_accuracies, marker='o', linestyle='-', color='b')\n",
    "plt.xlabel('K Value')\n",
    "plt.ylabel('Mean Accuracy (%)')\n",
    "plt.xlim(left=0) \n",
    "\n",
    "plt.title('Mean Accuracy vs K Value (KNN)')\n",
    "plt.grid(True)\n",
    "plt.tight_layout()\n",
    "\n",
    "plt.savefig('KNN.jpg')\n",
    "plt.show()"
   ]
  }
 ],
 "metadata": {
  "kernelspec": {
   "display_name": "Python 3",
   "language": "python",
   "name": "python3"
  },
  "language_info": {
   "codemirror_mode": {
    "name": "ipython",
    "version": 3
   },
   "file_extension": ".py",
   "mimetype": "text/x-python",
   "name": "python",
   "nbconvert_exporter": "python",
   "pygments_lexer": "ipython3",
   "version": "3.12.4"
  }
 },
 "nbformat": 4,
 "nbformat_minor": 5
}
